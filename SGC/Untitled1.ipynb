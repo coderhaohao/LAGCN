{
 "cells": [
  {
   "cell_type": "code",
   "execution_count": 1,
   "metadata": {},
   "outputs": [],
   "source": [
    "import time\n",
    "import argparse\n",
    "import numpy as np\n",
    "import torch\n",
    "import torch.nn.functional as F\n",
    "import torch.optim as optim\n",
    "from utils import load_citation, sgc_precompute, set_seed\n",
    "from models import get_model\n",
    "from metrics import accuracy\n",
    "import pickle as pkl\n",
    "from args import get_citation_args\n",
    "from time import perf_counter\n",
    "\n",
    "# Arguments\n",
    "args = get_citation_args()\n",
    "\n",
    "if args.tuned:\n",
    "    if args.model == \"SGC\":\n",
    "        with open(\"{}-tuning/{}.txt\".format(args.model, args.dataset), 'rb') as f:\n",
    "            args.weight_decay = pkl.load(f)['weight_decay']\n",
    "            print(\"using tuned weight decay: {}\".format(args.weight_decay))\n",
    "    else:\n",
    "        raise NotImplemented\n",
    "\n",
    "# setting random seeds\n",
    "set_seed(args.seed, args.cuda)\n",
    "\n",
    "adj, features, labels, idx_train, idx_val, idx_test = load_citation(args.dataset, args.normalization, args.cuda)"
   ]
  },
  {
   "cell_type": "code",
   "execution_count": 2,
   "metadata": {},
   "outputs": [
    {
     "data": {
      "text/plain": [
       "2505.3396"
      ]
     },
     "execution_count": 2,
     "metadata": {},
     "output_type": "execute_result"
    }
   ],
   "source": [
    "np.sum(adj.data.to_dense().numpy())"
   ]
  },
  {
   "cell_type": "code",
   "execution_count": 3,
   "metadata": {},
   "outputs": [
    {
     "data": {
      "text/plain": [
       "torch.Size([2708, 2708])"
      ]
     },
     "execution_count": 3,
     "metadata": {},
     "output_type": "execute_result"
    }
   ],
   "source": [
    "adj.shape"
   ]
  },
  {
   "cell_type": "code",
   "execution_count": 4,
   "metadata": {},
   "outputs": [],
   "source": [
    "import torch\n",
    "import torch.nn as nn\n",
    "from torch.nn import Module\n",
    "import torch.nn.functional as F\n",
    "import math"
   ]
  },
  {
   "cell_type": "code",
   "execution_count": 5,
   "metadata": {},
   "outputs": [],
   "source": [
    "def train_regression(model,\n",
    "                     train_features, train_labels,\n",
    "                     val_features, val_labels,\n",
    "                     epochs=args.epochs, weight_decay=args.weight_decay,\n",
    "                     lr=args.lr, dropout=args.dropout):\n",
    "\n",
    "    optimizer = optim.Adam(model.parameters(), lr=lr,\n",
    "                           weight_decay=weight_decay)\n",
    "    t = perf_counter()\n",
    "    for epoch in range(epochs):\n",
    "        model.train()\n",
    "        optimizer.zero_grad()\n",
    "        output = model(train_features)\n",
    "        loss_train = F.cross_entropy(output, train_labels)\n",
    "        loss_train.backward()\n",
    "        optimizer.step()\n",
    "\n",
    "        model.eval()\n",
    "        output = model(val_features)\n",
    "        acc_val = accuracy(output, val_labels)\n",
    "        print(acc_val)\n",
    "    train_time = perf_counter()-t\n",
    "\n",
    "    with torch.no_grad():\n",
    "        model.eval()\n",
    "        output = model(val_features)\n",
    "        acc_val = accuracy(output, val_labels)\n",
    "\n",
    "    return model, acc_val, train_time\n",
    "\n",
    "def test_regression(model, test_features, test_labels):\n",
    "    model.eval()\n",
    "    return accuracy(model(test_features), test_labels)\n",
    "\n"
   ]
  },
  {
   "cell_type": "code",
   "execution_count": 6,
   "metadata": {},
   "outputs": [],
   "source": [
    "class SGC(nn.Module):\n",
    "    \"\"\"\n",
    "    A Simple PyTorch Implementation of Logistic Regression.\n",
    "    Assuming the features have been preprocessed with k-step graph propagation.\n",
    "    \"\"\"\n",
    "    def __init__(self, nfeat, nclass):\n",
    "        super(SGC, self).__init__()\n",
    "\n",
    "        self.W = nn.Linear(nfeat, nclass)\n",
    "\n",
    "    def forward(self, x):\n",
    "        return self.W(x)"
   ]
  },
  {
   "cell_type": "code",
   "execution_count": 7,
   "metadata": {},
   "outputs": [],
   "source": [
    "feature_bak = features.clone()"
   ]
  },
  {
   "cell_type": "code",
   "execution_count": 8,
   "metadata": {},
   "outputs": [],
   "source": [
    "from torch.nn import init"
   ]
  },
  {
   "cell_type": "code",
   "execution_count": 6,
   "metadata": {},
   "outputs": [],
   "source": [
    "model = SGC(features.size(1),labels.max().item()+1)"
   ]
  },
  {
   "cell_type": "code",
   "execution_count": 9,
   "metadata": {},
   "outputs": [],
   "source": [
    "degree=6\n",
    "\n",
    "features = feature_bak.clone()\n",
    "t_feature = features.clone()\n",
    "feature_list = [t_feature.clone()]\n",
    "t = perf_counter()\n",
    "for i in range(degree):\n",
    "    t_feature = torch.spmm(adj, t_feature)\n",
    "    feature_list.append(t_feature.clone())\n",
    "precompute_time = perf_counter()-t"
   ]
  },
  {
   "cell_type": "code",
   "execution_count": 102,
   "metadata": {},
   "outputs": [],
   "source": [
    "ws_weight = nn.Parameter(\n",
    "            torch.FloatTensor(np.random.normal(loc=0.5, scale=0.1, size=(1,degree_size))))"
   ]
  },
  {
   "cell_type": "code",
   "execution_count": 103,
   "metadata": {},
   "outputs": [
    {
     "data": {
      "text/plain": [
       "Parameter containing:\n",
       "tensor([[0.6624, 0.4388, 0.4472, 0.3927, 0.5865, 0.2698, 0.6745]],\n",
       "       requires_grad=True)"
      ]
     },
     "execution_count": 103,
     "metadata": {},
     "output_type": "execute_result"
    }
   ],
   "source": [
    "ws_weight"
   ]
  },
  {
   "cell_type": "code",
   "execution_count": 101,
   "metadata": {},
   "outputs": [
    {
     "data": {
      "text/plain": [
       "Parameter containing:\n",
       "tensor([0.1000, 0.1000, 0.3000, 0.3000, 0.3000, 0.1000, 0.1000],\n",
       "       requires_grad=True)"
      ]
     },
     "execution_count": 101,
     "metadata": {},
     "output_type": "execute_result"
    }
   ],
   "source": [
    "model.ws_weight"
   ]
  },
  {
   "cell_type": "code",
   "execution_count": 104,
   "metadata": {},
   "outputs": [],
   "source": [
    "class SGC_WEIGHT_SUM(nn.Module):\n",
    "    def __init__(self, fea_size, label_size, emb_size, degree_size, fwd_num, drop_rate):\n",
    "        super(SGC_WEIGHT_SUM, self).__init__()\n",
    "        self.trans_lin = nn.Linear(fea_size, emb_size)\n",
    "        init.xavier_uniform_(self.trans_lin.weight)\n",
    "        self.ws_weight = nn.Parameter(\n",
    "            torch.FloatTensor([[0.1,0.1,0.3,0.3,0.3,0.1,0.1]]))\n",
    "#         self.ws_weight = nn.Parameter(\n",
    "#             torch.FloatTensor(np.random.normal(loc=0.5, scale=0.1, size=(1,degree_size))))\n",
    "        self.fwd_lin = []\n",
    "        # Previous Forward Layer\n",
    "        for i in range(fwd_num-1):\n",
    "            lin_mod = nn.Linear(emb_size, emb_size)\n",
    "            init.xavier_uniform_(lin_mod.weight)\n",
    "            self.fwd_lin.append(lin_mod)\n",
    "            self.fwd_lin.append(nn.Sigmoid())\n",
    "        # Final Forward Layer\n",
    "        lin_mod = nn.Linear(emb_size, label_size)\n",
    "        init.xavier_uniform_(lin_mod.weight)\n",
    "        self.fwd_lin.append(lin_mod)\n",
    "        self.fwd_lin = nn.Sequential(*self.fwd_lin)\n",
    "        print(self.fwd_lin)\n",
    "        self.drop = nn.Dropout(drop_rate)\n",
    "        \n",
    "        \n",
    "        \n",
    "#         self.ws_lin.weight = torch.nn.Parameter(torch.FloatTensor([[1]]))\n",
    "#         for p in self.ws_lin.parameters():\n",
    "#             p.requires_grad=False\n",
    "\n",
    "    def forward(self, x, istrain=False):\n",
    "        trans_emb = self.trans_lin(x.permute([0,2,1])).permute([0,2,1])\n",
    "#         ws_emb = torch.squeeze(F.linear(trans_emb,F.softmax(self.ws_weight, dim=1)), dim=-1)\n",
    "        ws_emb = torch.squeeze(F.linear(trans_emb,self.ws_weight), dim=-1)\n",
    "#         ws_emb = torch.squeeze(self.ws_lin(trans_emb), dim=-1)\n",
    "        if istrain:\n",
    "            ws_emb = self.drop(ws_emb)\n",
    "        y_pred = self.fwd_lin(ws_emb)\n",
    "        return y_pred"
   ]
  },
  {
   "cell_type": "code",
   "execution_count": 97,
   "metadata": {},
   "outputs": [],
   "source": [
    "fea_size = 1433\n",
    "label_size = 7\n",
    "emb_size = 128\n",
    "degree_size = 7\n",
    "fwd_num = 2\n",
    "drop_rate = 0.9"
   ]
  },
  {
   "cell_type": "code",
   "execution_count": 98,
   "metadata": {},
   "outputs": [],
   "source": [
    "features = feature_bak.clone()\n",
    "t_feature = features.clone()\n",
    "feature_list = [t_feature.clone()]\n",
    "t = perf_counter()\n",
    "for i in range(degree):\n",
    "    t_feature = torch.spmm(adj, t_feature)\n",
    "    feature_list.append(t_feature.clone())\n",
    "precompute_time = perf_counter()-t\n",
    "feature_list = [torch.unsqueeze(_, dim=-1) for _ in feature_list][0:degree_size]\n",
    "features = torch.cat(feature_list, dim=-1)"
   ]
  },
  {
   "cell_type": "code",
   "execution_count": 99,
   "metadata": {},
   "outputs": [],
   "source": [
    "import matplotlib.pyplot as plt\n",
    "%matplotlib inline"
   ]
  },
  {
   "cell_type": "code",
   "execution_count": null,
   "metadata": {},
   "outputs": [],
   "source": []
  },
  {
   "cell_type": "code",
   "execution_count": 107,
   "metadata": {},
   "outputs": [
    {
     "name": "stdout",
     "output_type": "stream",
     "text": [
      "Sequential(\n",
      "  (0): Linear(in_features=128, out_features=128, bias=True)\n",
      "  (1): Sigmoid()\n",
      "  (2): Linear(in_features=128, out_features=7, bias=True)\n",
      ")\n",
      "weight\n",
      "tensor([[0.1305, 0.1305, 0.1594, 0.1594, 0.1594, 0.1305, 0.1305]],\n",
      "       grad_fn=<SoftmaxBackward>)\n",
      "train begin\n",
      "[0.13047661, 0.13047661, 0.15936449, 0.15936449, 0.15936449, 0.13047661, 0.13047661]\n",
      "epoch 0, tr: 14.29, va: 7.20, ts:9.10\n",
      "epoch 1, tr: 14.29, va: 7.20, ts:9.10\n",
      "epoch 2, tr: 14.29, va: 7.20, ts:9.10\n",
      "epoch 3, tr: 14.29, va: 7.20, ts:9.10\n",
      "epoch 4, tr: 14.29, va: 7.20, ts:9.10\n",
      "epoch 5, tr: 14.29, va: 5.80, ts:6.40\n",
      "epoch 6, tr: 14.29, va: 5.80, ts:6.40\n",
      "epoch 7, tr: 14.29, va: 5.80, ts:6.40\n",
      "epoch 8, tr: 28.57, va: 15.80, ts:14.50\n",
      "epoch 9, tr: 27.86, va: 18.20, ts:18.20\n",
      "[0.13048232, 0.13044377, 0.15934367, 0.15935701, 0.15937154, 0.13049522, 0.13050644]\n",
      "epoch 10, tr: 28.57, va: 26.00, ts:24.10\n",
      "epoch 11, tr: 28.57, va: 24.80, ts:22.50\n",
      "epoch 12, tr: 26.43, va: 22.40, ts:20.30\n",
      "epoch 13, tr: 23.57, va: 20.20, ts:18.50\n",
      "epoch 14, tr: 22.86, va: 19.40, ts:17.80\n",
      "epoch 15, tr: 23.57, va: 19.00, ts:17.40\n",
      "epoch 16, tr: 29.29, va: 21.20, ts:19.80\n",
      "epoch 17, tr: 37.14, va: 33.40, ts:31.80\n",
      "epoch 18, tr: 32.86, va: 31.40, ts:28.50\n",
      "epoch 19, tr: 24.29, va: 21.20, ts:20.10\n",
      "[0.13048108, 0.1304415, 0.15934257, 0.1593569, 0.15937246, 0.13049677, 0.13050866]\n",
      "epoch 20, tr: 22.86, va: 19.00, ts:18.50\n",
      "epoch 21, tr: 33.57, va: 34.40, ts:35.40\n",
      "epoch 22, tr: 41.43, va: 44.60, ts:46.10\n",
      "epoch 23, tr: 47.14, va: 46.20, ts:47.40\n",
      "epoch 24, tr: 47.86, va: 46.20, ts:47.50\n",
      "epoch 25, tr: 47.86, va: 39.80, ts:43.90\n",
      "epoch 26, tr: 49.29, va: 33.60, ts:37.10\n",
      "epoch 27, tr: 55.00, va: 27.80, ts:30.10\n",
      "epoch 28, tr: 58.57, va: 24.80, ts:26.70\n",
      "epoch 29, tr: 62.14, va: 27.80, ts:29.10\n",
      "[0.13048121, 0.13044135, 0.15934253, 0.15935689, 0.1593725, 0.13049683, 0.13050872]\n",
      "epoch 30, tr: 68.57, va: 32.00, ts:36.00\n",
      "epoch 31, tr: 80.71, va: 41.00, ts:45.00\n",
      "epoch 32, tr: 87.14, va: 55.80, ts:57.60\n",
      "epoch 33, tr: 90.00, va: 60.80, ts:63.00\n",
      "epoch 34, tr: 88.57, va: 60.00, ts:60.60\n",
      "epoch 35, tr: 88.57, va: 59.00, ts:58.30\n",
      "epoch 36, tr: 85.71, va: 56.60, ts:57.20\n",
      "epoch 37, tr: 84.29, va: 56.40, ts:55.50\n",
      "epoch 38, tr: 85.71, va: 55.40, ts:54.90\n",
      "epoch 39, tr: 85.00, va: 56.00, ts:55.70\n",
      "[0.13048103, 0.13044147, 0.15934248, 0.15935689, 0.1593725, 0.13049686, 0.13050877]\n",
      "epoch 40, tr: 85.71, va: 57.80, ts:56.30\n",
      "epoch 41, tr: 87.86, va: 60.00, ts:58.60\n",
      "epoch 42, tr: 90.71, va: 64.60, ts:64.00\n",
      "epoch 43, tr: 92.86, va: 70.60, ts:69.10\n",
      "epoch 44, tr: 93.57, va: 75.20, ts:74.00\n",
      "epoch 45, tr: 93.57, va: 77.20, ts:76.60\n",
      "epoch 46, tr: 94.29, va: 78.40, ts:77.50\n",
      "epoch 47, tr: 94.29, va: 77.60, ts:77.50\n",
      "epoch 48, tr: 93.57, va: 77.80, ts:77.50\n",
      "epoch 49, tr: 94.29, va: 77.00, ts:76.50\n",
      "[0.13048191, 0.13044196, 0.15934256, 0.15935676, 0.15937215, 0.13049644, 0.13050826]\n",
      "epoch 50, tr: 93.57, va: 75.80, ts:76.10\n",
      "epoch 51, tr: 92.86, va: 75.20, ts:75.90\n",
      "epoch 52, tr: 93.57, va: 74.80, ts:74.70\n",
      "epoch 53, tr: 93.57, va: 74.40, ts:73.80\n",
      "epoch 54, tr: 92.86, va: 73.80, ts:73.10\n",
      "epoch 55, tr: 92.86, va: 73.80, ts:73.10\n",
      "epoch 56, tr: 92.86, va: 73.80, ts:72.90\n",
      "epoch 57, tr: 93.57, va: 74.00, ts:72.80\n",
      "epoch 58, tr: 94.29, va: 74.00, ts:73.10\n",
      "epoch 59, tr: 94.29, va: 74.40, ts:73.50\n",
      "[0.13048501, 0.1304428, 0.15934269, 0.1593562, 0.15937114, 0.13049528, 0.13050681]\n",
      "epoch 60, tr: 94.29, va: 75.20, ts:73.80\n",
      "epoch 61, tr: 94.29, va: 75.80, ts:74.30\n",
      "epoch 62, tr: 94.29, va: 76.20, ts:75.00\n",
      "epoch 63, tr: 94.29, va: 76.20, ts:75.30\n",
      "epoch 64, tr: 94.29, va: 76.80, ts:75.60\n",
      "epoch 65, tr: 94.29, va: 76.80, ts:76.10\n",
      "epoch 66, tr: 94.29, va: 77.00, ts:76.30\n",
      "epoch 67, tr: 94.29, va: 76.80, ts:76.30\n",
      "epoch 68, tr: 95.00, va: 77.20, ts:76.80\n",
      "epoch 69, tr: 95.00, va: 76.80, ts:76.80\n",
      "[0.1304945, 0.13044469, 0.15934339, 0.15935467, 0.1593683, 0.13049191, 0.13050257]\n",
      "epoch 70, tr: 95.00, va: 77.00, ts:76.80\n",
      "epoch 71, tr: 95.00, va: 77.00, ts:76.80\n",
      "epoch 72, tr: 95.00, va: 77.00, ts:77.00\n",
      "epoch 73, tr: 95.00, va: 77.60, ts:77.20\n",
      "epoch 74, tr: 95.00, va: 77.60, ts:77.50\n",
      "epoch 75, tr: 95.00, va: 77.60, ts:77.60\n",
      "epoch 76, tr: 95.00, va: 77.80, ts:77.80\n",
      "epoch 77, tr: 95.00, va: 77.80, ts:78.40\n",
      "epoch 78, tr: 95.00, va: 78.00, ts:78.70\n",
      "epoch 79, tr: 95.00, va: 77.80, ts:79.00\n",
      "[0.13051805, 0.13044861, 0.15934516, 0.15935077, 0.15936142, 0.13048369, 0.13049227]\n",
      "epoch 80, tr: 95.00, va: 77.80, ts:79.20\n",
      "epoch 81, tr: 95.71, va: 77.80, ts:79.30\n",
      "epoch 82, tr: 95.71, va: 78.20, ts:79.00\n",
      "epoch 83, tr: 95.71, va: 78.40, ts:79.20\n",
      "epoch 84, tr: 96.43, va: 78.40, ts:79.30\n",
      "epoch 85, tr: 97.14, va: 78.40, ts:79.30\n",
      "epoch 86, tr: 98.57, va: 78.40, ts:79.40\n",
      "epoch 87, tr: 98.57, va: 78.40, ts:79.80\n",
      "epoch 88, tr: 98.57, va: 78.60, ts:80.10\n",
      "epoch 89, tr: 98.57, va: 79.00, ts:80.10\n",
      "[0.13056836, 0.13045624, 0.15934896, 0.15934226, 0.15934691, 0.13046648, 0.13047083]\n",
      "epoch 90, tr: 98.57, va: 79.00, ts:80.40\n",
      "epoch 91, tr: 99.29, va: 79.20, ts:80.50\n",
      "epoch 92, tr: 99.29, va: 79.20, ts:80.50\n",
      "epoch 93, tr: 99.29, va: 79.20, ts:80.30\n",
      "epoch 94, tr: 99.29, va: 79.40, ts:80.60\n",
      "epoch 95, tr: 99.29, va: 79.40, ts:80.50\n",
      "epoch 96, tr: 99.29, va: 79.40, ts:80.50\n",
      "epoch 97, tr: 99.29, va: 79.40, ts:80.60\n",
      "epoch 98, tr: 99.29, va: 79.20, ts:80.60\n",
      "epoch 99, tr: 99.29, va: 79.00, ts:80.80\n",
      "max test acc criterion 80.8000\n",
      "[99.         99.28571429 79.         80.8       ]\n",
      "max val acc criterion 80.6000\n",
      "[94.         99.28571429 79.4        80.6       ]\n",
      "Validation Accuracy: 79.0000 Test Accuracy: 0.8080\n",
      "Pre-compute time: 0.1458s, train time: 12.0454s, total: 12.1912s\n"
     ]
    }
   ],
   "source": [
    "set_seed(3, args.cuda)\n",
    "model = SGC_WEIGHT_SUM(fea_size, label_size, emb_size, degree_size, fwd_num, drop_rate)\n",
    "print('weight')\n",
    "print(F.softmax(model.ws_weight, dim=1))\n",
    "print('train begin')\n",
    "model, acc_val, train_time, score_array, ws_array = train_regression(\n",
    "    model, features[idx_train], labels[idx_train], features[idx_val], labels[idx_val],\n",
    "                 100, args.weight_decay, 1e-3, args.dropout, features[idx_test], labels[idx_test])\n",
    "acc_test = test_regression(model, features[idx_test], labels[idx_test])\n",
    "\n",
    "print(\"Validation Accuracy: {:.4f} Test Accuracy: {:.4f}\".format(acc_val, acc_test))\n",
    "print(\"Pre-compute time: {:.4f}s, train time: {:.4f}s, total: {:.4f}s\".format(precompute_time, train_time, precompute_time+train_time))\n"
   ]
  },
  {
   "cell_type": "code",
   "execution_count": 95,
   "metadata": {},
   "outputs": [
    {
     "data": {
      "text/plain": [
       "torch.Size([2708, 1433, 7])"
      ]
     },
     "execution_count": 95,
     "metadata": {},
     "output_type": "execute_result"
    }
   ],
   "source": [
    "features.shape"
   ]
  },
  {
   "cell_type": "code",
   "execution_count": 24,
   "metadata": {},
   "outputs": [
    {
     "data": {
      "image/png": "[encoded data removed]",
      "text/plain": [
       "<matplotlib.figure.Figure at 0x1a1bcafc50>"
      ]
     },
     "metadata": {},
     "output_type": "display_data"
    }
   ],
   "source": [
    "for i in range(ws_array.shape[1]):\n",
    "    plt.plot(ws_array[:,i])"
   ]
  },
  {
   "cell_type": "code",
   "execution_count": 474,
   "metadata": {},
   "outputs": [
    {
     "data": {
      "text/plain": [
       "<matplotlib.legend.Legend at 0x1a4134d7b8>"
      ]
     },
     "execution_count": 474,
     "metadata": {},
     "output_type": "execute_result"
    },
    {
     "data": {
      "image/png": "[encoded data removed]",
      "text/plain": [
       "<matplotlib.figure.Figure at 0x1a43a72d68>"
      ]
     },
     "metadata": {},
     "output_type": "display_data"
    }
   ],
   "source": [
    "plt.plot(score_array[:,0],score_array[:,1],label='Train')\n",
    "plt.plot(score_array[:,0],score_array[:,2],label='Val')\n",
    "plt.plot(score_array[:,0],score_array[:,3],label='Test')\n",
    "plt.legend()"
   ]
  },
  {
   "cell_type": "code",
   "execution_count": 465,
   "metadata": {},
   "outputs": [],
   "source": [
    "import pandas as pd"
   ]
  },
  {
   "cell_type": "code",
   "execution_count": 467,
   "metadata": {},
   "outputs": [],
   "source": [
    "df = pd.DataFrame([[2,2], [2,2]])"
   ]
  },
  {
   "cell_type": "code",
   "execution_count": 73,
   "metadata": {
    "scrolled": false
   },
   "outputs": [
    {
     "name": "stdout",
     "output_type": "stream",
     "text": [
      "Sequential(\n",
      "  (0): Linear(in_features=128, out_features=128, bias=True)\n",
      "  (1): Sigmoid()\n",
      "  (2): Linear(in_features=128, out_features=7, bias=True)\n",
      ")\n",
      "weight\n",
      "tensor([[0.1671, 0.1336, 0.1348, 0.1276, 0.1549, 0.1129, 0.1691]],\n",
      "       grad_fn=<SoftmaxBackward>)\n",
      "train begin\n",
      "epoch 0(0 W), tr: 14.29, va: 31.60, ts:31.90\n",
      "epoch 0(1 W), tr: 14.29, va: 31.60, ts:31.90\n",
      "epoch 0(2 W), tr: 14.29, va: 31.60, ts:31.90\n",
      "epoch 0(3 W), tr: 14.29, va: 31.60, ts:31.90\n",
      "epoch 0(4 W), tr: 14.29, va: 31.60, ts:31.90\n",
      "epoch 0(5 W), tr: 14.29, va: 31.60, ts:31.90\n",
      "epoch 0(6 W), tr: 14.29, va: 31.60, ts:31.90\n",
      "epoch 0(7 W), tr: 14.29, va: 31.60, ts:31.90\n",
      "epoch 0(8 W), tr: 14.29, va: 31.60, ts:31.90\n",
      "epoch 0(9 W), tr: 14.29, va: 31.60, ts:31.90\n",
      "epoch 0(10 W), tr: 14.29, va: 31.60, ts:31.90\n",
      "epoch 0(11 W), tr: 14.29, va: 31.60, ts:31.90\n",
      "epoch 0(12 W), tr: 15.71, va: 31.60, ts:32.10\n",
      "epoch 0(13 W), tr: 28.57, va: 36.20, ts:36.60\n",
      "epoch 0(14 W), tr: 44.29, va: 39.80, ts:40.10\n",
      "epoch 0(15 W), tr: 41.43, va: 26.20, ts:25.70\n",
      "epoch 0(16 W), tr: 44.29, va: 29.00, ts:29.30\n",
      "epoch 0(17 W), tr: 44.29, va: 29.80, ts:30.00\n",
      "epoch 0(18 W), tr: 40.71, va: 25.80, ts:26.20\n",
      "epoch 0(19 W), tr: 36.43, va: 19.60, ts:21.30\n",
      "epoch 0(20 W), tr: 33.57, va: 16.00, ts:17.70\n",
      "epoch 0(21 W), tr: 35.71, va: 16.60, ts:18.20\n",
      "epoch 0(22 W), tr: 39.29, va: 18.80, ts:21.10\n",
      "epoch 0(23 W), tr: 42.86, va: 21.80, ts:24.80\n",
      "epoch 0(24 W), tr: 47.14, va: 23.80, ts:26.30\n",
      "epoch 0(25 W), tr: 42.86, va: 25.40, ts:25.40\n",
      "epoch 0(26 W), tr: 44.29, va: 25.40, ts:24.70\n",
      "epoch 0(27 W), tr: 42.86, va: 24.80, ts:23.70\n",
      "epoch 0(28 W), tr: 43.57, va: 25.00, ts:23.30\n",
      "epoch 0(29 W), tr: 44.29, va: 25.00, ts:23.20\n",
      "epoch 0(0 A), tr: 44.29, va: 24.60, ts:22.90\n",
      "[0.16711536, 0.13362993, 0.13475154, 0.1276067, 0.15490168, 0.112854116, 0.16914071]\n",
      "epoch 0(1 A), tr: 44.29, va: 24.00, ts:22.40\n",
      "[0.1671155, 0.13362996, 0.13475156, 0.1276067, 0.15490164, 0.11285408, 0.16914062]\n",
      "epoch 0(2 A), tr: 42.86, va: 23.80, ts:22.10\n",
      "[0.16711582, 0.13363007, 0.13475159, 0.12760666, 0.15490153, 0.11285396, 0.16914038]\n",
      "epoch 0(3 A), tr: 42.86, va: 23.40, ts:21.70\n",
      "[0.16711643, 0.13363026, 0.13475168, 0.12760662, 0.15490136, 0.112853736, 0.16913995]\n",
      "epoch 0(4 A), tr: 42.86, va: 23.40, ts:21.40\n",
      "[0.1671174, 0.13363056, 0.13475178, 0.12760654, 0.15490107, 0.11285339, 0.16913924]\n",
      "epoch 0(5 A), tr: 42.14, va: 23.00, ts:21.10\n",
      "[0.16711886, 0.13363104, 0.13475195, 0.12760644, 0.15490066, 0.1128529, 0.16913821]\n",
      "epoch 0(6 A), tr: 41.43, va: 23.00, ts:21.00\n",
      "[0.16712084, 0.13363166, 0.13475218, 0.12760627, 0.15490007, 0.11285221, 0.16913678]\n",
      "epoch 0(7 A), tr: 41.43, va: 22.60, ts:20.50\n",
      "[0.16712347, 0.1336325, 0.1347525, 0.12760608, 0.15489931, 0.1128513, 0.1691349]\n",
      "epoch 0(8 A), tr: 40.71, va: 22.00, ts:20.20\n",
      "[0.16712677, 0.13363355, 0.13475287, 0.12760581, 0.15489833, 0.11285012, 0.16913249]\n",
      "epoch 0(9 A), tr: 40.00, va: 21.80, ts:20.10\n",
      "[0.1671309, 0.13363487, 0.13475338, 0.12760548, 0.15489712, 0.11284868, 0.1691295]\n",
      "epoch 1(0 W), tr: 42.86, va: 23.00, ts:21.00\n",
      "epoch 1(1 W), tr: 50.00, va: 23.60, ts:23.20\n",
      "epoch 1(2 W), tr: 55.71, va: 25.80, ts:25.50\n",
      "epoch 1(3 W), tr: 65.71, va: 30.40, ts:29.70\n",
      "epoch 1(4 W), tr: 77.14, va: 36.20, ts:35.90\n",
      "epoch 1(5 W), tr: 84.29, va: 43.20, ts:42.50\n",
      "epoch 1(6 W), tr: 85.71, va: 49.60, ts:48.90\n",
      "epoch 1(7 W), tr: 87.14, va: 54.20, ts:53.30\n",
      "epoch 1(8 W), tr: 90.71, va: 56.20, ts:58.10\n",
      "epoch 1(9 W), tr: 94.29, va: 61.60, ts:62.70\n",
      "epoch 1(10 W), tr: 95.71, va: 66.40, ts:66.30\n",
      "epoch 1(11 W), tr: 97.14, va: 70.00, ts:69.70\n",
      "epoch 1(12 W), tr: 98.57, va: 72.20, ts:71.80\n",
      "epoch 1(13 W), tr: 99.29, va: 74.20, ts:74.70\n",
      "epoch 1(14 W), tr: 99.29, va: 75.40, ts:76.90\n",
      "epoch 1(15 W), tr: 99.29, va: 76.40, ts:78.40\n",
      "epoch 1(16 W), tr: 99.29, va: 77.20, ts:79.50\n",
      "epoch 1(17 W), tr: 99.29, va: 78.00, ts:80.20\n",
      "epoch 1(18 W), tr: 98.57, va: 78.80, ts:80.50\n",
      "epoch 1(19 W), tr: 98.57, va: 78.60, ts:81.10\n",
      "epoch 1(20 W), tr: 98.57, va: 78.80, ts:81.30\n",
      "epoch 1(21 W), tr: 98.57, va: 79.40, ts:81.40\n",
      "epoch 1(22 W), tr: 98.57, va: 79.60, ts:81.60\n",
      "epoch 1(23 W), tr: 98.57, va: 79.00, ts:81.80\n",
      "epoch 1(24 W), tr: 98.57, va: 79.00, ts:81.90\n",
      "epoch 1(25 W), tr: 98.57, va: 79.20, ts:81.80\n",
      "epoch 1(26 W), tr: 99.29, va: 78.60, ts:81.70\n",
      "epoch 1(27 W), tr: 99.29, va: 79.00, ts:81.00\n",
      "epoch 1(28 W), tr: 99.29, va: 78.80, ts:80.80\n",
      "epoch 1(29 W), tr: 99.29, va: 78.80, ts:80.50\n",
      "epoch 1(0 A), tr: 99.29, va: 78.60, ts:80.40\n",
      "[0.1671448, 0.13364328, 0.1347561, 0.12760504, 0.15489213, 0.11284248, 0.16911617]\n",
      "epoch 1(1 A), tr: 99.29, va: 78.20, ts:80.20\n",
      "[0.16715573, 0.13365002, 0.13475826, 0.12760468, 0.15488817, 0.112837575, 0.16910563]\n",
      "epoch 1(2 A), tr: 99.29, va: 78.00, ts:80.20\n",
      "[0.1671642, 0.1336553, 0.13475995, 0.1276044, 0.15488507, 0.11283374, 0.1690974]\n",
      "epoch 1(3 A), tr: 99.29, va: 78.20, ts:80.00\n",
      "[0.16717097, 0.13365948, 0.13476129, 0.12760416, 0.15488258, 0.112830676, 0.16909082]\n",
      "epoch 1(4 A), tr: 99.29, va: 77.60, ts:79.90\n",
      "[0.16717657, 0.13366285, 0.13476235, 0.12760396, 0.15488057, 0.11282818, 0.16908549]\n",
      "epoch 1(5 A), tr: 99.29, va: 77.60, ts:79.50\n",
      "[0.16718143, 0.1336656, 0.13476323, 0.12760375, 0.15487885, 0.11282608, 0.169081]\n",
      "epoch 1(6 A), tr: 99.29, va: 77.00, ts:79.30\n",
      "[0.16718587, 0.1336679, 0.13476399, 0.12760353, 0.15487735, 0.11282426, 0.16907713]\n",
      "epoch 1(7 A), tr: 99.29, va: 77.00, ts:79.10\n",
      "[0.16719013, 0.13366984, 0.13476461, 0.12760326, 0.15487596, 0.112822585, 0.16907363]\n",
      "epoch 1(8 A), tr: 99.29, va: 77.20, ts:78.70\n",
      "[0.16719444, 0.13367149, 0.13476516, 0.12760295, 0.1548746, 0.11282098, 0.16907032]\n",
      "epoch 1(9 A), tr: 99.29, va: 77.00, ts:78.80\n",
      "[0.167199, 0.133673, 0.13476565, 0.12760256, 0.15487324, 0.1128194, 0.16906708]\n",
      "epoch 2(0 W), tr: 99.29, va: 77.00, ts:78.80\n",
      "epoch 2(1 W), tr: 99.29, va: 77.20, ts:78.90\n",
      "epoch 2(2 W), tr: 99.29, va: 77.20, ts:78.60\n",
      "epoch 2(3 W), tr: 99.29, va: 77.40, ts:78.60\n",
      "epoch 2(4 W), tr: 99.29, va: 77.80, ts:78.50\n",
      "epoch 2(5 W), tr: 99.29, va: 77.60, ts:78.50\n",
      "epoch 2(6 W), tr: 99.29, va: 77.60, ts:78.40\n",
      "epoch 2(7 W), tr: 99.29, va: 77.60, ts:78.50\n",
      "epoch 2(8 W), tr: 99.29, va: 77.80, ts:78.60\n",
      "epoch 2(9 W), tr: 99.29, va: 78.00, ts:78.90\n",
      "epoch 2(10 W), tr: 99.29, va: 78.00, ts:79.30\n",
      "epoch 2(11 W), tr: 99.29, va: 78.20, ts:79.40\n",
      "epoch 2(12 W), tr: 99.29, va: 78.40, ts:79.40\n",
      "epoch 2(13 W), tr: 99.29, va: 78.20, ts:79.50\n",
      "epoch 2(14 W), tr: 99.29, va: 78.20, ts:79.70\n",
      "epoch 2(15 W), tr: 99.29, va: 78.20, ts:79.80\n",
      "epoch 2(16 W), tr: 99.29, va: 77.80, ts:79.90\n",
      "epoch 2(17 W), tr: 99.29, va: 77.80, ts:80.20\n",
      "epoch 2(18 W), tr: 99.29, va: 77.80, ts:80.10\n",
      "epoch 2(19 W), tr: 99.29, va: 77.60, ts:80.40\n",
      "epoch 2(20 W), tr: 99.29, va: 77.60, ts:80.30\n",
      "epoch 2(21 W), tr: 99.29, va: 77.40, ts:80.20\n",
      "epoch 2(22 W), tr: 99.29, va: 77.40, ts:80.30\n",
      "epoch 2(23 W), tr: 99.29, va: 77.60, ts:80.20\n",
      "epoch 2(24 W), tr: 99.29, va: 77.60, ts:80.20\n",
      "epoch 2(25 W), tr: 99.29, va: 78.00, ts:80.40\n",
      "epoch 2(26 W), tr: 99.29, va: 78.20, ts:80.40\n",
      "epoch 2(27 W), tr: 99.29, va: 78.40, ts:80.30\n",
      "epoch 2(28 W), tr: 99.29, va: 78.40, ts:80.40\n",
      "epoch 2(29 W), tr: 99.29, va: 78.40, ts:80.40\n",
      "epoch 2(0 A), tr: 99.29, va: 78.20, ts:80.30\n",
      "[0.16721769, 0.13367593, 0.13476662, 0.12760016, 0.15486819, 0.112814136, 0.16905731]\n",
      "epoch 2(1 A), tr: 99.29, va: 78.20, ts:80.20\n",
      "[0.16724886, 0.13368018, 0.13476795, 0.12759593, 0.15485984, 0.11280558, 0.16904165]\n",
      "epoch 2(2 A), tr: 99.29, va: 78.40, ts:80.10\n",
      "[0.16729124, 0.13368562, 0.13476968, 0.1275901, 0.15484855, 0.11279408, 0.16902071]\n",
      "epoch 2(3 A), tr: 99.29, va: 78.40, ts:79.90\n",
      "[0.16734368, 0.13369216, 0.13477178, 0.12758285, 0.15483461, 0.112779915, 0.16899504]\n",
      "epoch 2(4 A), tr: 99.29, va: 78.40, ts:79.80\n",
      "[0.16740516, 0.13369969, 0.13477416, 0.1275743, 0.15481828, 0.112763345, 0.16896503]\n",
      "epoch 2(5 A), tr: 99.29, va: 78.40, ts:79.80\n",
      "[0.1674749, 0.13370818, 0.13477689, 0.12756458, 0.15479979, 0.112744585, 0.16893111]\n",
      "epoch 2(6 A), tr: 99.29, va: 78.40, ts:79.60\n",
      "[0.16755208, 0.1337175, 0.1347799, 0.1275538, 0.15477931, 0.11272382, 0.16889358]\n",
      "epoch 2(7 A), tr: 99.29, va: 78.20, ts:79.40\n",
      "[0.16763613, 0.13372765, 0.13478316, 0.12754205, 0.15475701, 0.11270122, 0.16885273]\n",
      "epoch 2(8 A), tr: 99.29, va: 78.20, ts:79.30\n",
      "[0.16772646, 0.13373853, 0.13478671, 0.12752943, 0.15473305, 0.11267695, 0.16880888]\n",
      "epoch 2(9 A), tr: 99.29, va: 78.20, ts:79.30\n",
      "[0.16782255, 0.13375014, 0.13479047, 0.127516, 0.15470757, 0.11265111, 0.1687622]\n",
      "[[ 0.          0.          0.         14.28571429 31.6        31.9       ]\n",
      " [ 0.          0.          1.         14.28571429 31.6        31.9       ]\n",
      " [ 0.          0.          2.         14.28571429 31.6        31.9       ]\n",
      " [ 0.          0.          3.         14.28571429 31.6        31.9       ]\n",
      " [ 0.          0.          4.         14.28571429 31.6        31.9       ]\n",
      " [ 0.          0.          5.         14.28571429 31.6        31.9       ]\n",
      " [ 0.          0.          6.         14.28571429 31.6        31.9       ]\n",
      " [ 0.          0.          7.         14.28571429 31.6        31.9       ]\n",
      " [ 0.          0.          8.         14.28571429 31.6        31.9       ]\n",
      " [ 0.          0.          9.         14.28571429 31.6        31.9       ]\n",
      " [ 0.          0.         10.         14.28571429 31.6        31.9       ]\n",
      " [ 0.          0.         11.         14.28571429 31.6        31.9       ]\n",
      " [ 0.          0.         12.         15.71428571 31.6        32.1       ]\n",
      " [ 0.          0.         13.         28.57142857 36.2        36.6       ]\n",
      " [ 0.          0.         14.         44.28571429 39.8        40.1       ]\n",
      " [ 0.          0.         15.         41.42857143 26.2        25.7       ]\n",
      " [ 0.          0.         16.         44.28571429 29.         29.3       ]\n",
      " [ 0.          0.         17.         44.28571429 29.8        30.        ]\n",
      " [ 0.          0.         18.         40.71428571 25.8        26.2       ]\n",
      " [ 0.          0.         19.         36.42857143 19.6        21.3       ]\n",
      " [ 0.          0.         20.         33.57142857 16.         17.7       ]\n",
      " [ 0.          0.         21.         35.71428571 16.6        18.2       ]\n",
      " [ 0.          0.         22.         39.28571429 18.8        21.1       ]\n",
      " [ 0.          0.         23.         42.85714286 21.8        24.8       ]\n",
      " [ 0.          0.         24.         47.14285714 23.8        26.3       ]\n",
      " [ 0.          0.         25.         42.85714286 25.4        25.4       ]\n",
      " [ 0.          0.         26.         44.28571429 25.4        24.7       ]\n",
      " [ 0.          0.         27.         42.85714286 24.8        23.7       ]\n",
      " [ 0.          0.         28.         43.57142857 25.         23.3       ]\n",
      " [ 0.          0.         29.         44.28571429 25.         23.2       ]\n",
      " [ 1.          0.          0.         44.28571429 24.6        22.9       ]\n",
      " [ 1.          0.          1.         44.28571429 24.         22.4       ]\n",
      " [ 1.          0.          2.         42.85714286 23.8        22.1       ]\n",
      " [ 1.          0.          3.         42.85714286 23.4        21.7       ]\n",
      " [ 1.          0.          4.         42.85714286 23.4        21.4       ]\n",
      " [ 1.          0.          5.         42.14285714 23.         21.1       ]\n",
      " [ 1.          0.          6.         41.42857143 23.         21.        ]\n",
      " [ 1.          0.          7.         41.42857143 22.6        20.5       ]\n",
      " [ 1.          0.          8.         40.71428571 22.         20.2       ]\n",
      " [ 1.          0.          9.         40.         21.8        20.1       ]\n",
      " [ 0.          1.          0.         42.85714286 23.         21.        ]\n",
      " [ 0.          1.          1.         50.         23.6        23.2       ]\n",
      " [ 0.          1.          2.         55.71428571 25.8        25.5       ]\n",
      " [ 0.          1.          3.         65.71428571 30.4        29.7       ]\n",
      " [ 0.          1.          4.         77.14285714 36.2        35.9       ]\n",
      " [ 0.          1.          5.         84.28571429 43.2        42.5       ]\n",
      " [ 0.          1.          6.         85.71428571 49.6        48.9       ]\n",
      " [ 0.          1.          7.         87.14285714 54.2        53.3       ]\n",
      " [ 0.          1.          8.         90.71428571 56.2        58.1       ]\n",
      " [ 0.          1.          9.         94.28571429 61.6        62.7       ]\n",
      " [ 0.          1.         10.         95.71428571 66.4        66.3       ]\n",
      " [ 0.          1.         11.         97.14285714 70.         69.7       ]\n",
      " [ 0.          1.         12.         98.57142857 72.2        71.8       ]\n",
      " [ 0.          1.         13.         99.28571429 74.2        74.7       ]\n",
      " [ 0.          1.         14.         99.28571429 75.4        76.9       ]\n",
      " [ 0.          1.         15.         99.28571429 76.4        78.4       ]\n",
      " [ 0.          1.         16.         99.28571429 77.2        79.5       ]\n",
      " [ 0.          1.         17.         99.28571429 78.         80.2       ]\n",
      " [ 0.          1.         18.         98.57142857 78.8        80.5       ]\n",
      " [ 0.          1.         19.         98.57142857 78.6        81.1       ]\n",
      " [ 0.          1.         20.         98.57142857 78.8        81.3       ]\n",
      " [ 0.          1.         21.         98.57142857 79.4        81.4       ]\n",
      " [ 0.          1.         22.         98.57142857 79.6        81.6       ]\n",
      " [ 0.          1.         23.         98.57142857 79.         81.8       ]\n",
      " [ 0.          1.         24.         98.57142857 79.         81.9       ]\n",
      " [ 0.          1.         25.         98.57142857 79.2        81.8       ]\n",
      " [ 0.          1.         26.         99.28571429 78.6        81.7       ]\n",
      " [ 0.          1.         27.         99.28571429 79.         81.        ]\n",
      " [ 0.          1.         28.         99.28571429 78.8        80.8       ]\n",
      " [ 0.          1.         29.         99.28571429 78.8        80.5       ]\n",
      " [ 1.          1.          0.         99.28571429 78.6        80.4       ]\n",
      " [ 1.          1.          1.         99.28571429 78.2        80.2       ]\n",
      " [ 1.          1.          2.         99.28571429 78.         80.2       ]\n",
      " [ 1.          1.          3.         99.28571429 78.2        80.        ]\n",
      " [ 1.          1.          4.         99.28571429 77.6        79.9       ]\n",
      " [ 1.          1.          5.         99.28571429 77.6        79.5       ]\n",
      " [ 1.          1.          6.         99.28571429 77.         79.3       ]\n",
      " [ 1.          1.          7.         99.28571429 77.         79.1       ]\n",
      " [ 1.          1.          8.         99.28571429 77.2        78.7       ]\n",
      " [ 1.          1.          9.         99.28571429 77.         78.8       ]\n",
      " [ 0.          2.          0.         99.28571429 77.         78.8       ]\n",
      " [ 0.          2.          1.         99.28571429 77.2        78.9       ]\n",
      " [ 0.          2.          2.         99.28571429 77.2        78.6       ]\n",
      " [ 0.          2.          3.         99.28571429 77.4        78.6       ]\n",
      " [ 0.          2.          4.         99.28571429 77.8        78.5       ]\n",
      " [ 0.          2.          5.         99.28571429 77.6        78.5       ]\n",
      " [ 0.          2.          6.         99.28571429 77.6        78.4       ]\n",
      " [ 0.          2.          7.         99.28571429 77.6        78.5       ]\n",
      " [ 0.          2.          8.         99.28571429 77.8        78.6       ]\n",
      " [ 0.          2.          9.         99.28571429 78.         78.9       ]\n",
      " [ 0.          2.         10.         99.28571429 78.         79.3       ]\n",
      " [ 0.          2.         11.         99.28571429 78.2        79.4       ]\n",
      " [ 0.          2.         12.         99.28571429 78.4        79.4       ]\n",
      " [ 0.          2.         13.         99.28571429 78.2        79.5       ]\n",
      " [ 0.          2.         14.         99.28571429 78.2        79.7       ]\n",
      " [ 0.          2.         15.         99.28571429 78.2        79.8       ]\n",
      " [ 0.          2.         16.         99.28571429 77.8        79.9       ]\n",
      " [ 0.          2.         17.         99.28571429 77.8        80.2       ]\n",
      " [ 0.          2.         18.         99.28571429 77.8        80.1       ]\n",
      " [ 0.          2.         19.         99.28571429 77.6        80.4       ]\n",
      " [ 0.          2.         20.         99.28571429 77.6        80.3       ]\n",
      " [ 0.          2.         21.         99.28571429 77.4        80.2       ]\n",
      " [ 0.          2.         22.         99.28571429 77.4        80.3       ]\n",
      " [ 0.          2.         23.         99.28571429 77.6        80.2       ]\n",
      " [ 0.          2.         24.         99.28571429 77.6        80.2       ]\n",
      " [ 0.          2.         25.         99.28571429 78.         80.4       ]\n",
      " [ 0.          2.         26.         99.28571429 78.2        80.4       ]\n",
      " [ 0.          2.         27.         99.28571429 78.4        80.3       ]\n",
      " [ 0.          2.         28.         99.28571429 78.4        80.4       ]\n",
      " [ 0.          2.         29.         99.28571429 78.4        80.4       ]\n",
      " [ 1.          2.          0.         99.28571429 78.2        80.3       ]\n",
      " [ 1.          2.          1.         99.28571429 78.2        80.2       ]\n",
      " [ 1.          2.          2.         99.28571429 78.4        80.1       ]\n",
      " [ 1.          2.          3.         99.28571429 78.4        79.9       ]\n",
      " [ 1.          2.          4.         99.28571429 78.4        79.8       ]\n",
      " [ 1.          2.          5.         99.28571429 78.4        79.8       ]\n",
      " [ 1.          2.          6.         99.28571429 78.4        79.6       ]\n",
      " [ 1.          2.          7.         99.28571429 78.2        79.4       ]\n",
      " [ 1.          2.          8.         99.28571429 78.2        79.3       ]\n",
      " [ 1.          2.          9.         99.28571429 78.2        79.3       ]]\n",
      "max test acc criterion 81.6000\n",
      "[ 0.          1.         22.         98.57142857 79.6        81.6       ]\n",
      "max val acc criterion 74.7000\n",
      "[ 0.          1.         13.         99.28571429 74.2        74.7       ]\n",
      "Validation Accuracy: 78.2000 Test Accuracy: 0.7930\n",
      "Pre-compute time: 0.1468s, train time: 15.5740s, total: 15.7208s\n"
     ]
    }
   ],
   "source": [
    "set_seed(1, args.cuda)\n",
    "model = SGC_WEIGHT_SUM(fea_size, label_size, emb_size, degree_size, fwd_num, drop_rate)\n",
    "print('weight')\n",
    "print(F.softmax(model.ws_weight, dim=1))\n",
    "print('train begin')\n",
    "model, acc_val, train_time, score_array, ws_array = bilevel_train_regression(\n",
    "    model, features[idx_train], labels[idx_train], features[idx_val], labels[idx_val],\n",
    "    3, 30, 10, args.weight_decay, 1e-3, args.dropout, features[idx_test], labels[idx_test])\n",
    "acc_test = test_regression(model, features[idx_test], labels[idx_test])\n",
    "\n",
    "print(\"Validation Accuracy: {:.4f} Test Accuracy: {:.4f}\".format(acc_val, acc_test))\n",
    "print(\"Pre-compute time: {:.4f}s, train time: {:.4f}s, total: {:.4f}s\".format(precompute_time, train_time, precompute_time+train_time))\n"
   ]
  },
  {
   "cell_type": "code",
   "execution_count": 77,
   "metadata": {},
   "outputs": [
    {
     "data": {
      "image/png": "[encoded data removed]",
      "text/plain": [
       "<matplotlib.figure.Figure at 0x1a26483748>"
      ]
     },
     "metadata": {},
     "output_type": "display_data"
    }
   ],
   "source": [
    "for i in range(3,6):\n",
    "    plt.plot(score_array[:,i])"
   ]
  },
  {
   "cell_type": "code",
   "execution_count": 78,
   "metadata": {},
   "outputs": [
    {
     "data": {
      "image/png": "[encoded data removed]",
      "text/plain": [
       "<matplotlib.figure.Figure at 0x1a264838d0>"
      ]
     },
     "metadata": {},
     "output_type": "display_data"
    }
   ],
   "source": [
    "for i in range(3,6):\n",
    "    plt.plot(score_array[score_array[:,0]==0][:,i])"
   ]
  },
  {
   "cell_type": "code",
   "execution_count": 76,
   "metadata": {},
   "outputs": [
    {
     "data": {
      "image/png": "[encoded data removed]",
      "text/plain": [
       "<matplotlib.figure.Figure at 0x1a26e40048>"
      ]
     },
     "metadata": {},
     "output_type": "display_data"
    }
   ],
   "source": [
    "for i in range(3,6):\n",
    "    plt.plot(score_array[score_array[:,0]==1][:,i])"
   ]
  },
  {
   "cell_type": "code",
   "execution_count": 30,
   "metadata": {},
   "outputs": [
    {
     "data": {
      "text/plain": [
       "Parameter containing:\n",
       "tensor([[ 0.0489, -0.0043,  0.0321,  ...,  0.0375, -0.0486, -0.0380],\n",
       "        [-0.0242, -0.0522, -0.0222,  ...,  0.0077,  0.0218,  0.0305],\n",
       "        [-0.0130, -0.0573,  0.0467,  ...,  0.0028, -0.0610, -0.0104],\n",
       "        ...,\n",
       "        [-0.0243, -0.0453,  0.0009,  ...,  0.0228, -0.0588, -0.0360],\n",
       "        [-0.0386,  0.0366, -0.0145,  ...,  0.0033,  0.0097,  0.0121],\n",
       "        [-0.0115, -0.0285, -0.0427,  ...,  0.0315,  0.0588, -0.0240]],\n",
       "       requires_grad=True)"
      ]
     },
     "execution_count": 30,
     "metadata": {},
     "output_type": "execute_result"
    }
   ],
   "source": [
    "model.trans_lin.weight"
   ]
  },
  {
   "cell_type": "code",
   "execution_count": 79,
   "metadata": {},
   "outputs": [],
   "source": [
    "def bilevel_train_regression(model,\n",
    "                     train_features, train_labels,\n",
    "                     val_features, val_labels,\n",
    "                     total_epochs, w_batchs, a_batchs, weight_decay,\n",
    "                     lr, dropout, test_features, test_labels):\n",
    "\n",
    "#     optimizer = optim.Adam(model.parameters(), lr=lr,\n",
    "#                            weight_decay=weight_decay)\n",
    "\n",
    "    w_parameters = [model.trans_lin.weight]\n",
    "    for i,lin in enumerate(model.fwd_lin):\n",
    "        if i %2 ==1:\n",
    "            continue\n",
    "        w_parameters.append(lin.weight)\n",
    "    alpha_parameters = [model.ws_weight]\n",
    "    opt_w = optim.Adam(w_parameters, lr=lr,\n",
    "                           weight_decay=weight_decay)\n",
    "    opt_a = optim.Adam(alpha_parameters, lr=lr*10,\n",
    "                           weight_decay=weight_decay)\n",
    "    \n",
    "    \n",
    "    t = perf_counter()\n",
    "    score_list = []\n",
    "    ws_list = []\n",
    "    w_index = 0\n",
    "    a_index = 0\n",
    "    for epoch in range(total_epochs):\n",
    "        for batch in range(w_batchs):\n",
    "            opt_w.zero_grad()\n",
    "            output = model(train_features, istrain=True)\n",
    "            loss_train = F.cross_entropy(output, train_labels)\n",
    "            loss_train.backward()\n",
    "            opt_w.step()\n",
    "        \n",
    "            output = model(train_features)\n",
    "            acc_train = float(accuracy(output, train_labels).data.numpy())*100\n",
    "            model.eval()\n",
    "            output = model(val_features)\n",
    "            acc_val = float(accuracy(output, val_labels).data.numpy())*100\n",
    "            output = model(test_features)\n",
    "            acc_test = float(accuracy(output, test_labels).data.numpy())*100\n",
    "            print(\"epoch %d(%d W), tr: %.2f, va: %.2f, ts:%.2f\" %(epoch, batch, acc_train, acc_val, acc_test))\n",
    "            score_list.append([0, epoch, batch, acc_train, acc_val, acc_test])\n",
    "        \n",
    "        for batch in range(a_batchs):\n",
    "            opt_a.zero_grad()\n",
    "            output = model(train_features, istrain=True)\n",
    "            loss_train = F.cross_entropy(output, train_labels)\n",
    "            loss_train.backward()\n",
    "            opt_a.step()\n",
    "            output = model(train_features)\n",
    "            acc_train = float(accuracy(output, train_labels).data.numpy())*100\n",
    "            model.eval()\n",
    "            output = model(val_features)\n",
    "            acc_val = float(accuracy(output, val_labels).data.numpy())*100\n",
    "            output = model(test_features)\n",
    "            acc_test = float(accuracy(output, test_labels).data.numpy())*100\n",
    "            print(\"epoch %d(%d A), tr: %.2f, va: %.2f, ts:%.2f\" %(epoch, batch, acc_train, acc_val, acc_test))\n",
    "            score_list.append([1, epoch, batch, acc_train, acc_val, acc_test])\n",
    "            ws_list.append(list(F.softmax(model.ws_weight, dim=1).data.numpy()[0]))\n",
    "            print(list(F.softmax(model.ws_weight, dim=1).data.numpy()[0]))\n",
    "    ws_array = np.array(ws_list)\n",
    "    score_array = np.array(score_list)\n",
    "    max_ts_acc_iter = score_array[:, -1].argmax(axis=0)\n",
    "    max_ts_acc = score_array[max_ts_acc_iter][-1]\n",
    "    max_va_acc_iter = score_array[:, -2].argmax(axis=0)\n",
    "    max_va_acc = score_array[max_va_acc_iter][-1]    \n",
    "    train_time = perf_counter()-t\n",
    "    print(score_array)\n",
    "    print('max test acc criterion %.4f' % max_ts_acc)\n",
    "    print(score_array[max_ts_acc_iter])\n",
    "    print('max val acc criterion %.4f' % max_va_acc)\n",
    "    print(score_array[max_va_acc_iter])\n",
    "\n",
    "#     with torch.no_grad():\n",
    "#         model.eval()\n",
    "#         output = model(val_features)\n",
    "#         acc_val = accuracy(output, val_labels)\n",
    "\n",
    "    return model, acc_val, train_time, score_array, ws_array\n",
    "\n",
    "def test_regression(model, test_features, test_labels):\n",
    "    model.eval()\n",
    "    return accuracy(model(test_features), test_labels)\n",
    "\n"
   ]
  },
  {
   "cell_type": "code",
   "execution_count": 21,
   "metadata": {},
   "outputs": [],
   "source": [
    "def train_regression(model,\n",
    "                     train_features, train_labels,\n",
    "                     val_features, val_labels,\n",
    "                     epochs, weight_decay,\n",
    "                     lr, dropout, test_features, test_labels):\n",
    "\n",
    "    optimizer = optim.Adam(model.parameters(), lr=lr,\n",
    "                           weight_decay=weight_decay)\n",
    "    t = perf_counter()\n",
    "    score_list = []\n",
    "    ws_list = []\n",
    "    for epoch in range(epochs):\n",
    "        optimizer.zero_grad()\n",
    "        output = model(train_features, istrain=True)\n",
    "        ws_list.append(list(F.softmax(model.ws_weight, dim=1).data.numpy()[0]))\n",
    "        if epoch %10==0:\n",
    "            print(list(F.softmax(model.ws_weight, dim=1).data.numpy()[0]))\n",
    "        loss_train = F.cross_entropy(output, train_labels)\n",
    "        loss_train.backward()\n",
    "        optimizer.step()\n",
    "        \n",
    "        output = model(train_features)\n",
    "        acc_train = float(accuracy(output, train_labels).data.numpy())*100\n",
    "        model.eval()\n",
    "        output = model(val_features)\n",
    "        acc_val = float(accuracy(output, val_labels).data.numpy())*100\n",
    "        output = model(test_features)\n",
    "        acc_test = float(accuracy(output, test_labels).data.numpy())*100\n",
    "        print(\"epoch %d, tr: %.2f, va: %.2f, ts:%.2f\" %(epoch, acc_train, acc_val, acc_test))\n",
    "        score_list.append([epoch, acc_train, acc_val, acc_test])\n",
    "    ws_array = np.array(ws_list)\n",
    "    score_array = np.array(score_list)\n",
    "    max_ts_acc_iter = score_array[:, 3].argmax(axis=0)\n",
    "    max_ts_acc = score_array[max_ts_acc_iter][-1]\n",
    "    max_va_acc_iter = score_array[:, 2].argmax(axis=0)\n",
    "    max_va_acc = score_array[max_va_acc_iter][-1]    \n",
    "    train_time = perf_counter()-t\n",
    "    print('max test acc criterion %.4f' % max_ts_acc)\n",
    "    print(score_array[max_ts_acc_iter])\n",
    "    print('max val acc criterion %.4f' % max_va_acc)\n",
    "    print(score_array[max_va_acc_iter])\n",
    "\n",
    "#     with torch.no_grad():\n",
    "#         model.eval()\n",
    "#         output = model(val_features)\n",
    "#         acc_val = accuracy(output, val_labels)\n",
    "\n",
    "    return model, acc_val, train_time, score_array, ws_array\n",
    "\n",
    "def test_regression(model, test_features, test_labels):\n",
    "    model.eval()\n",
    "    return accuracy(model(test_features), test_labels)\n",
    "\n"
   ]
  },
  {
   "cell_type": "code",
   "execution_count": 449,
   "metadata": {},
   "outputs": [],
   "source": [
    "adj, features, labels, idx_train, idx_val, idx_test = load_citation(args.dataset, args.normalization, args.cuda)"
   ]
  },
  {
   "cell_type": "code",
   "execution_count": 85,
   "metadata": {},
   "outputs": [],
   "source": [
    "feauters_bak = features.clone()"
   ]
  },
  {
   "cell_type": "code",
   "execution_count": 86,
   "metadata": {},
   "outputs": [],
   "source": [
    "degree = 1"
   ]
  },
  {
   "cell_type": "code",
   "execution_count": 87,
   "metadata": {},
   "outputs": [],
   "source": [
    "features = feature_bak.clone()\n",
    "feature_list = [features]\n",
    "t = perf_counter()\n",
    "for i in range(degree):\n",
    "    features = torch.spmm(adj, features)\n",
    "    feature_list.append(features)\n",
    "precompute_time = perf_counter()-t"
   ]
  },
  {
   "cell_type": "code",
   "execution_count": 89,
   "metadata": {},
   "outputs": [
    {
     "data": {
      "text/plain": [
       "tensor([[1, 1, 1,  ..., 1, 0, 1],\n",
       "        [1, 1, 1,  ..., 1, 1, 1],\n",
       "        [1, 1, 1,  ..., 1, 1, 1],\n",
       "        ...,\n",
       "        [1, 1, 1,  ..., 1, 1, 1],\n",
       "        [1, 1, 1,  ..., 1, 1, 1],\n",
       "        [1, 1, 1,  ..., 1, 1, 1]], dtype=torch.uint8)"
      ]
     },
     "execution_count": 89,
     "metadata": {},
     "output_type": "execute_result"
    }
   ],
   "source": [
    "features == feature_bak"
   ]
  },
  {
   "cell_type": "code",
   "execution_count": 90,
   "metadata": {},
   "outputs": [
    {
     "name": "stdout",
     "output_type": "stream",
     "text": [
      "tensor(0.5480, dtype=torch.float64)\n",
      "tensor(0.7140, dtype=torch.float64)\n",
      "tensor(0.4860, dtype=torch.float64)\n",
      "tensor(0.5440, dtype=torch.float64)\n",
      "tensor(0.6980, dtype=torch.float64)\n",
      "tensor(0.7760, dtype=torch.float64)\n",
      "tensor(0.7860, dtype=torch.float64)\n",
      "tensor(0.7720, dtype=torch.float64)\n",
      "tensor(0.7660, dtype=torch.float64)\n",
      "tensor(0.7700, dtype=torch.float64)\n",
      "tensor(0.7660, dtype=torch.float64)\n",
      "tensor(0.7640, dtype=torch.float64)\n",
      "tensor(0.7600, dtype=torch.float64)\n",
      "tensor(0.7640, dtype=torch.float64)\n",
      "tensor(0.7720, dtype=torch.float64)\n",
      "tensor(0.7800, dtype=torch.float64)\n",
      "tensor(0.7840, dtype=torch.float64)\n",
      "tensor(0.7820, dtype=torch.float64)\n",
      "tensor(0.7880, dtype=torch.float64)\n",
      "tensor(0.7880, dtype=torch.float64)\n",
      "tensor(0.7860, dtype=torch.float64)\n",
      "tensor(0.7840, dtype=torch.float64)\n",
      "tensor(0.7780, dtype=torch.float64)\n",
      "tensor(0.7760, dtype=torch.float64)\n",
      "tensor(0.7800, dtype=torch.float64)\n",
      "tensor(0.7840, dtype=torch.float64)\n",
      "tensor(0.7860, dtype=torch.float64)\n",
      "tensor(0.7860, dtype=torch.float64)\n",
      "tensor(0.7860, dtype=torch.float64)\n",
      "tensor(0.7900, dtype=torch.float64)\n",
      "tensor(0.7940, dtype=torch.float64)\n",
      "tensor(0.7940, dtype=torch.float64)\n",
      "tensor(0.7940, dtype=torch.float64)\n",
      "tensor(0.7940, dtype=torch.float64)\n",
      "tensor(0.7940, dtype=torch.float64)\n",
      "tensor(0.7940, dtype=torch.float64)\n",
      "tensor(0.7880, dtype=torch.float64)\n",
      "tensor(0.7940, dtype=torch.float64)\n",
      "tensor(0.7960, dtype=torch.float64)\n",
      "tensor(0.7960, dtype=torch.float64)\n",
      "tensor(0.8000, dtype=torch.float64)\n",
      "tensor(0.7980, dtype=torch.float64)\n",
      "tensor(0.7980, dtype=torch.float64)\n",
      "tensor(0.8000, dtype=torch.float64)\n",
      "tensor(0.8040, dtype=torch.float64)\n",
      "tensor(0.8020, dtype=torch.float64)\n",
      "tensor(0.8000, dtype=torch.float64)\n",
      "tensor(0.8000, dtype=torch.float64)\n",
      "tensor(0.8000, dtype=torch.float64)\n",
      "tensor(0.8020, dtype=torch.float64)\n",
      "tensor(0.8020, dtype=torch.float64)\n",
      "tensor(0.8020, dtype=torch.float64)\n",
      "tensor(0.8020, dtype=torch.float64)\n",
      "tensor(0.8020, dtype=torch.float64)\n",
      "tensor(0.7980, dtype=torch.float64)\n",
      "tensor(0.7980, dtype=torch.float64)\n",
      "tensor(0.8000, dtype=torch.float64)\n",
      "tensor(0.8000, dtype=torch.float64)\n",
      "tensor(0.8000, dtype=torch.float64)\n",
      "tensor(0.7980, dtype=torch.float64)\n",
      "tensor(0.7980, dtype=torch.float64)\n",
      "tensor(0.8000, dtype=torch.float64)\n",
      "tensor(0.8000, dtype=torch.float64)\n",
      "tensor(0.8000, dtype=torch.float64)\n",
      "tensor(0.8000, dtype=torch.float64)\n",
      "tensor(0.8000, dtype=torch.float64)\n",
      "tensor(0.8000, dtype=torch.float64)\n",
      "tensor(0.8000, dtype=torch.float64)\n",
      "tensor(0.8000, dtype=torch.float64)\n",
      "tensor(0.8000, dtype=torch.float64)\n",
      "tensor(0.8000, dtype=torch.float64)\n",
      "tensor(0.8000, dtype=torch.float64)\n",
      "tensor(0.8000, dtype=torch.float64)\n",
      "tensor(0.8000, dtype=torch.float64)\n",
      "tensor(0.7980, dtype=torch.float64)\n",
      "tensor(0.7980, dtype=torch.float64)\n",
      "tensor(0.7980, dtype=torch.float64)\n",
      "tensor(0.7980, dtype=torch.float64)\n",
      "tensor(0.7980, dtype=torch.float64)\n",
      "tensor(0.7980, dtype=torch.float64)\n",
      "tensor(0.7980, dtype=torch.float64)\n",
      "tensor(0.7980, dtype=torch.float64)\n",
      "tensor(0.7980, dtype=torch.float64)\n",
      "tensor(0.7980, dtype=torch.float64)\n",
      "tensor(0.7960, dtype=torch.float64)\n",
      "tensor(0.7980, dtype=torch.float64)\n",
      "tensor(0.7980, dtype=torch.float64)\n",
      "tensor(0.7960, dtype=torch.float64)\n",
      "tensor(0.7960, dtype=torch.float64)\n",
      "tensor(0.7960, dtype=torch.float64)\n",
      "tensor(0.7960, dtype=torch.float64)\n",
      "tensor(0.7980, dtype=torch.float64)\n",
      "tensor(0.7960, dtype=torch.float64)\n",
      "tensor(0.7960, dtype=torch.float64)\n",
      "tensor(0.7960, dtype=torch.float64)\n",
      "tensor(0.7960, dtype=torch.float64)\n",
      "tensor(0.7960, dtype=torch.float64)\n",
      "tensor(0.7960, dtype=torch.float64)\n",
      "tensor(0.7960, dtype=torch.float64)\n",
      "tensor(0.7960, dtype=torch.float64)\n",
      "Validation Accuracy: 0.7960 Test Accuracy: 0.8070\n",
      "Pre-compute time: 0.0293s, train time: 0.1908s, total: 0.2201s\n"
     ]
    }
   ],
   "source": [
    "\n",
    "model = get_model(args.model, features.size(1), labels.max().item()+1, args.hidden, args.dropout, args.cuda)\n",
    "if args.model == \"SGC\": features, precompute_time = sgc_precompute(features, adj, args.degree)\n",
    "    \n",
    "\n",
    "model, acc_val, train_time = train_regression(model, features[idx_train], labels[idx_train], features[idx_val], labels[idx_val],\n",
    "                 args.epochs, args.weight_decay, args.lr, args.dropout)\n",
    "acc_test = test_regression(model, features[idx_test], labels[idx_test])\n",
    "\n",
    "print(\"Validation Accuracy: {:.4f} Test Accuracy: {:.4f}\".format(acc_val, acc_test))\n",
    "print(\"Pre-compute time: {:.4f}s, train time: {:.4f}s, total: {:.4f}s\".format(precompute_time, train_time, precompute_time+train_time))\n"
   ]
  },
  {
   "cell_type": "code",
   "execution_count": null,
   "metadata": {},
   "outputs": [],
   "source": []
  }
 ],
 "metadata": {
  "kernelspec": {
   "display_name": "Python 3",
   "language": "python",
   "name": "python3"
  },
  "language_info": {
   "codemirror_mode": {
    "name": "ipython",
    "version": 3
   },
   "file_extension": ".py",
   "mimetype": "text/x-python",
   "name": "python",
   "nbconvert_exporter": "python",
   "pygments_lexer": "ipython3",
   "version": "3.6.4"
  }
 },
 "nbformat": 4,
 "nbformat_minor": 2
}
